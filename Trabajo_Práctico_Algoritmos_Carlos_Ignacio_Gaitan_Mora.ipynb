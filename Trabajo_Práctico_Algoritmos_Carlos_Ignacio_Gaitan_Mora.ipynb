{
  "cells": [
    {
      "cell_type": "markdown",
      "metadata": {
        "id": "view-in-github",
        "colab_type": "text"
      },
      "source": [
        "<a href=\"https://colab.research.google.com/github/cgaitan/03MAIR---Algoritmos-de-Optimizacion/blob/main/Trabajo_Pr%C3%A1ctico_Algoritmos_Carlos_Ignacio_Gaitan_Mora.ipynb\" target=\"_parent\"><img src=\"https://colab.research.google.com/assets/colab-badge.svg\" alt=\"Open In Colab\"/></a>"
      ]
    },
    {
      "cell_type": "markdown",
      "metadata": {
        "id": "hVbXYX-RfPWh"
      },
      "source": [
        "# Algoritmos de optimización - Trabajo Práctico<br>\n",
        "\n",
        "----\n",
        "Nombre: Carlos Ignacio Gaitan Mora <br>\n",
        "Link:   https://colab.research.google.com/drive/1WgV7wpEYJMf90Baby3R1DtdiQjGnm7Mw <br>\n",
        "Github: https://github.com/cgaitan/03MAIR---Algoritmos-de-Optimizacion <br>\n",
        "\n",
        "\n",
        "## Problema: Sesiones de doblaje\n",
        "----\n",
        "\n",
        "Se precisa coordinar el doblaje de una película. Los actores del doblaje deben coincidir en las tomas en las que sus personajes aparecen juntos en las diferentes tomas. Los actores de doblaje cobran todos la misma cantidad por cada día que deben desplazarse hasta el estudio de grabación independientemente del número de tomas que se graben. No es posible grabar más de 6 tomas por día.\n",
        "\n",
        "El objetivo es planificar las sesiones por día de manera que el gasto por los\n",
        "servicios de los actores de doblaje sea el menor posible. Los datos son:\n",
        "\n",
        "\n",
        "Número de actores: 10\n",
        "\n",
        "Número de tomas : 30\n",
        "\n",
        "1 indica que el actor participa en la toma\n",
        "\n",
        "0 en caso contrario\n",
        "\n",
        "\n",
        "----\n",
        "\n",
        "\n",
        "\n",
        "                                        "
      ]
    },
    {
      "cell_type": "markdown",
      "metadata": {
        "id": "P6znkKkSN4kU"
      },
      "source": [
        "# Preparacion"
      ]
    },
    {
      "cell_type": "code",
      "execution_count": null,
      "metadata": {
        "id": "6Xw81k7fN-hE"
      },
      "outputs": [],
      "source": [
        "#Imports\n",
        "import time\n",
        "import random\n",
        "import itertools\n",
        "import math\n",
        "import pandas as pd"
      ]
    },
    {
      "cell_type": "code",
      "execution_count": null,
      "metadata": {
        "id": "6bRSsIRPOC9r"
      },
      "outputs": [],
      "source": [
        "# Decorador para medir el tiempo de ejecución\n",
        "def medir_tiempo(func):\n",
        "    def wrapper(*args, **kwargs):\n",
        "        inicio = time.perf_counter()\n",
        "        resultado = func(*args, **kwargs)\n",
        "        fin = time.perf_counter()\n",
        "        print(f\"Tiempo de ejecución de '{func.__name__}': {fin - inicio:.6f} segundos\")\n",
        "        return resultado\n",
        "    return wrapper"
      ]
    },
    {
      "cell_type": "code",
      "execution_count": null,
      "metadata": {
        "colab": {
          "base_uri": "https://localhost:8080/"
        },
        "id": "eGXraU8FOIF-",
        "outputId": "8aad4239-3174-49b8-c3df-28204eba9d61"
      },
      "outputs": [
        {
          "output_type": "stream",
          "name": "stdout",
          "text": [
            "---- Datos del Excel\n",
            "[1, 1, 1, 1, 1, 0, 0, 0, 0, 0]\n",
            "[0, 0, 1, 1, 1, 0, 0, 0, 0, 0]\n",
            "[0, 1, 0, 0, 1, 0, 1, 0, 0, 0]\n",
            "[1, 1, 0, 0, 0, 0, 1, 1, 0, 0]\n",
            "[0, 1, 0, 1, 0, 0, 0, 1, 0, 0]\n",
            "[1, 1, 0, 1, 1, 0, 0, 0, 0, 0]\n",
            "[1, 1, 0, 1, 1, 0, 0, 0, 0, 0]\n",
            "[1, 1, 0, 0, 0, 1, 0, 0, 0, 0]\n",
            "[1, 1, 0, 1, 0, 0, 0, 0, 0, 0]\n",
            "[1, 1, 0, 0, 0, 1, 0, 0, 1, 0]\n",
            "[1, 1, 1, 0, 1, 0, 0, 1, 0, 0]\n",
            "[1, 1, 1, 1, 0, 1, 0, 0, 0, 0]\n",
            "[1, 0, 0, 1, 1, 0, 0, 0, 0, 0]\n",
            "[1, 0, 1, 0, 0, 1, 0, 0, 0, 0]\n",
            "[1, 1, 0, 0, 0, 0, 1, 0, 0, 0]\n",
            "[0, 0, 0, 1, 0, 0, 0, 0, 0, 1]\n",
            "[1, 0, 1, 0, 0, 0, 0, 0, 0, 0]\n",
            "[0, 0, 1, 0, 0, 1, 0, 0, 0, 0]\n",
            "[1, 0, 1, 0, 0, 0, 0, 0, 0, 0]\n",
            "[1, 0, 1, 1, 1, 0, 0, 0, 0, 0]\n",
            "[0, 0, 0, 0, 0, 1, 0, 1, 0, 0]\n",
            "[1, 1, 1, 1, 0, 0, 0, 0, 0, 0]\n",
            "[1, 0, 1, 0, 0, 0, 0, 0, 0, 0]\n",
            "[0, 0, 1, 0, 0, 1, 0, 0, 0, 0]\n",
            "[1, 1, 0, 1, 0, 0, 0, 0, 0, 1]\n",
            "[1, 0, 1, 0, 1, 0, 0, 0, 1, 0]\n",
            "[0, 0, 0, 1, 1, 0, 0, 0, 0, 0]\n",
            "[1, 0, 0, 1, 0, 0, 0, 0, 0, 0]\n",
            "[1, 0, 0, 0, 1, 1, 0, 0, 0, 0]\n",
            "[1, 0, 0, 1, 0, 0, 0, 0, 0, 0]\n",
            "---- Datos generados aleatoriamente\n",
            "[1, 1, 0, 0, 1, 0, 0, 0, 1, 0, 1, 0, 1, 0, 0, 0, 0, 1, 1, 0]\n",
            "[0, 0, 1, 1, 1, 1, 1, 1, 1, 0, 1, 0, 0, 0, 0, 0, 0, 1, 0, 0]\n",
            "[1, 1, 0, 1, 1, 1, 1, 0, 0, 0, 1, 0, 1, 1, 0, 1, 0, 0, 0, 1]\n",
            "[0, 1, 1, 0, 1, 0, 0, 0, 0, 1, 0, 0, 1, 1, 1, 0, 0, 1, 0, 0]\n",
            "[0, 0, 1, 1, 0, 0, 0, 0, 1, 0, 1, 1, 1, 1, 1, 1, 1, 0, 1, 0]\n",
            "[0, 0, 0, 1, 0, 0, 0, 0, 0, 0, 1, 1, 0, 0, 0, 0, 0, 1, 0, 0]\n",
            "[0, 0, 0, 0, 0, 1, 1, 1, 0, 0, 0, 0, 1, 1, 0, 0, 0, 0, 0, 1]\n",
            "[0, 0, 1, 1, 1, 1, 0, 0, 1, 1, 1, 0, 0, 0, 1, 1, 0, 1, 1, 1]\n",
            "[1, 1, 0, 0, 1, 0, 1, 1, 0, 1, 0, 0, 1, 1, 1, 0, 1, 1, 1, 1]\n",
            "[1, 1, 1, 1, 1, 1, 1, 1, 1, 0, 1, 1, 0, 0, 1, 1, 0, 1, 0, 0]\n",
            "[1, 0, 1, 1, 1, 0, 1, 0, 0, 0, 1, 1, 1, 1, 0, 1, 0, 1, 1, 0]\n",
            "[0, 1, 0, 1, 1, 0, 0, 1, 0, 1, 1, 0, 0, 0, 0, 0, 0, 0, 0, 1]\n",
            "[1, 1, 1, 0, 1, 1, 0, 0, 0, 1, 1, 0, 1, 1, 0, 1, 0, 1, 0, 1]\n",
            "[0, 0, 1, 0, 0, 1, 1, 0, 1, 1, 1, 0, 0, 0, 1, 1, 1, 1, 0, 1]\n",
            "[0, 1, 0, 1, 0, 0, 1, 1, 1, 0, 0, 0, 0, 1, 1, 0, 0, 1, 0, 0]\n",
            "[0, 1, 0, 0, 1, 0, 1, 0, 1, 1, 0, 0, 0, 0, 0, 1, 0, 1, 1, 1]\n",
            "[0, 1, 1, 0, 0, 0, 0, 0, 0, 1, 1, 0, 1, 1, 0, 0, 0, 1, 0, 1]\n"
          ]
        }
      ],
      "source": [
        "#Datos\n",
        "\n",
        "# Generacion o lectura de los datos\n",
        "\n",
        "def leer_datos_desde_excel(ruta_archivo):\n",
        "    df = pd.read_excel(ruta_archivo, header=1)\n",
        "    columnas_actores = df.iloc[:, 1:11]\n",
        "    filas_tomas = columnas_actores.iloc[0:30]\n",
        "    filas_tomas = filas_tomas.astype(int)\n",
        "    matriz_participacion = filas_tomas.values.tolist()\n",
        "\n",
        "    return matriz_participacion\n",
        "\n",
        "def generar_datos_doblaje(total_actores, total_tomas):\n",
        "    datos = []\n",
        "    for toma in range(total_tomas):\n",
        "        participacion = [random.randint(0, 1) for _ in range(total_actores)]\n",
        "        datos.append(participacion)\n",
        "    return datos\n",
        "\n",
        "# Introducir la cantidad de actores y tomas\n",
        "total_actores = 20\n",
        "total_tomas = 17\n",
        "\n",
        "# Generar y mostrar los datos\n",
        "datos_doblaje = generar_datos_doblaje(total_actores, total_tomas)\n",
        "datos_doblaje_excel = leer_datos_desde_excel('./datos_problema_doblaje.xlsx')\n",
        "datos_doblaje_prueba = [\n",
        "    [1, 0, 1, 0],\n",
        "    [0, 1, 1, 0],\n",
        "    [1, 0, 1, 0],\n",
        "    [1, 0, 1, 0],\n",
        "    [0, 0, 0, 1],\n",
        "    [1, 0, 1, 0],\n",
        "    [1, 1, 1, 0],\n",
        "]\n",
        "\n",
        "print('---- Datos del Excel')\n",
        "for row in datos_doblaje_excel:\n",
        "  print(row)\n",
        "\n",
        "print('---- Datos generados aleatoriamente')\n",
        "for row in datos_doblaje:\n",
        "  print(row)"
      ]
    },
    {
      "cell_type": "markdown",
      "metadata": {
        "id": "cFpznxS9T41W"
      },
      "source": [
        "# Algoritmos\n"
      ]
    },
    {
      "cell_type": "markdown",
      "metadata": {
        "id": "Wf4Xfl2IvcB6"
      },
      "source": [
        "## Metodos comunes"
      ]
    },
    {
      "cell_type": "code",
      "execution_count": null,
      "metadata": {
        "id": "7gDn0_mtvclZ"
      },
      "outputs": [],
      "source": [
        "def calcular_costo(datos, tomas):\n",
        "  submatriz = [datos[i-1] for i in tomas]\n",
        "  return sum(1 for columna in zip(*submatriz) if any(columna))"
      ]
    },
    {
      "cell_type": "markdown",
      "metadata": {
        "id": "664mRhLkVA5u"
      },
      "source": [
        "## Fuerza bruta / Divide y venceras\n",
        "Aquí tomamos todas las posibles combinaciones de tomas por día y las vamos dividiendo en los días siguientes, calculando las combinaciones posibles con las tomas restantes. De esta forma, analizamos todos los escenarios y obtenemos una respuesta para comparar con las siguientes soluciones.\n",
        "\n",
        "Es una combinación de fuerza bruta, ya que generamos todas las combinaciones, pero las representamos y simplificamos utilizando el enfoque de \"divide y vencerás\".\n",
        "\n"
      ]
    },
    {
      "cell_type": "code",
      "execution_count": null,
      "metadata": {
        "colab": {
          "base_uri": "https://localhost:8080/"
        },
        "id": "XUBIGpabT5BL",
        "outputId": "4c643f6c-1da3-43e4-b259-fdc2c92c980b"
      },
      "outputs": [
        {
          "output_type": "stream",
          "name": "stdout",
          "text": [
            "------ Fuerza bruta/divide y venceras:\n",
            "---- DATOS PRUEBA\n",
            "Número de tomas: 7, Número de actores: 4, Máximo número de días: 2\n",
            "Tiempo de ejecución de 'fuerza_bruta': 0.000086 segundos\n",
            "-- Costo: 4\n",
            "Asignación de tomas por día:\n",
            "Día 1: Tomas [1, 2, 3, 4, 6, 7]\n",
            "Día 2: Tomas [5]\n",
            "---- DATOS GENERADOS\n",
            "Número de tomas: 17, Número de actores: 20, Máximo número de días: 3\n",
            "Tiempo de ejecución de 'fuerza_bruta': 60.260723 segundos\n",
            "-- Costo: 52\n",
            "Asignación de tomas por día:\n",
            "Día 1: Tomas [1, 2, 3, 7, 13, 16]\n",
            "Día 2: Tomas [5, 8, 9, 10, 11, 14]\n",
            "Día 3: Tomas [4, 6, 12, 15, 17]\n",
            "---- DATOS EXCEL\n",
            "El notebook se va por tiempo...\n"
          ]
        }
      ],
      "source": [
        "@medir_tiempo\n",
        "def fuerza_bruta(datos, max_tomas_por_dia=6):\n",
        "  num_tomas = len(datos)\n",
        "  num_actores = len(datos[0])\n",
        "  maximo_num_dias = math.ceil(num_tomas / max_tomas_por_dia)\n",
        "  tomas = set(range(1, num_tomas + 1))\n",
        "  print(f'Número de tomas: {num_tomas}, Número de actores: {num_actores}, Máximo número de días: {maximo_num_dias}')\n",
        "  costo, asignacion = asignacion_fuerza_bruta(datos, tomas, max_tomas_por_dia, [])\n",
        "  return costo, asignacion\n",
        "\n",
        "def asignacion_fuerza_bruta(datos, tomas, max_tomas_por_dia, asignacion_actual):\n",
        "  mejor_costo = math.inf\n",
        "  mejor_asignacion = None\n",
        "\n",
        "  # Casos base\n",
        "  if len(tomas) == 0:\n",
        "    return 0, asignacion_actual\n",
        "\n",
        "  if len(tomas) <= max_tomas_por_dia:\n",
        "    costo = calcular_costo(datos, tomas)\n",
        "    return costo, asignacion_actual + [list(tomas)]\n",
        "\n",
        "  for asignacion in itertools.combinations(tomas, max_tomas_por_dia):\n",
        "    tomas_restantes = tomas.difference(asignacion)\n",
        "    costo = calcular_costo(datos, asignacion)\n",
        "    # Dividimos haciendo una recursion para calcular las siguientes restantes con la actual asignacion\n",
        "    costo_validado, asignacion_validada = asignacion_fuerza_bruta(datos, tomas_restantes, max_tomas_por_dia, asignacion_actual + [list(asignacion)])\n",
        "    costo_total = costo + costo_validado\n",
        "\n",
        "    if costo_total < mejor_costo:\n",
        "      mejor_costo = costo_total\n",
        "      mejor_asignacion = asignacion_validada\n",
        "\n",
        "  return mejor_costo, mejor_asignacion\n",
        "\n",
        "print('------ Fuerza bruta/divide y venceras:')\n",
        "print('---- DATOS PRUEBA')\n",
        "costo, asignacion = fuerza_bruta(datos_doblaje_prueba)\n",
        "print(f'-- Costo: {costo}')\n",
        "print('Asignación de tomas por día:')\n",
        "for i, dia in enumerate(asignacion):\n",
        "  dia.sort()\n",
        "  print(f'Día {i + 1}: Tomas {dia}')\n",
        "\n",
        "print('---- DATOS GENERADOS')\n",
        "costo, asignacion = fuerza_bruta(datos_doblaje)\n",
        "print(f'-- Costo: {costo}')\n",
        "print('Asignación de tomas por día:')\n",
        "for i, dia in enumerate(asignacion):\n",
        "  dia.sort()\n",
        "  print(f'Día {i + 1}: Tomas {dia}')\n",
        "\n",
        "print('---- DATOS EXCEL')\n",
        "print('El notebook se va por tiempo...')\n"
      ]
    },
    {
      "cell_type": "markdown",
      "metadata": {
        "id": "QUaj49EA6vlI"
      },
      "source": [
        "## Recocido simulado (Simulated annealing)\n",
        "La idea aquí es usar un recocido simulado, ejecutándolo con 10 intentos y aumentando la temperatura en cada uno. Para la solución inicial, partiremos de la premisa de que la mejor estrategia es seleccionar las tomas desde la más costosa hasta la menos costosa y distribuirlas en los días. Luego, comenzaremos a tomar vecinos aleatorios para intercambiarlos y calcular nuevos costos, evaluando si obtenemos una mejor solución, hasta que el algoritmo se enfríe."
      ]
    },
    {
      "cell_type": "code",
      "execution_count": null,
      "metadata": {
        "colab": {
          "base_uri": "https://localhost:8080/"
        },
        "id": "9dehSKl8uZaZ",
        "outputId": "c68affd1-64c9-46d9-85b7-65b8af9f166d"
      },
      "outputs": [
        {
          "output_type": "stream",
          "name": "stdout",
          "text": [
            "------ Recocido simulado:\n",
            "---- DATOS PRUEBA\n",
            "-- Costo: 4\n",
            "Asignación de tomas por día:\n",
            "Día 1: Tomas [1, 2, 3, 4, 6, 7]\n",
            "Día 2: Tomas [5]\n",
            "---- DATOS GENERADOS\n",
            "Tiempo de ejecución de 'seleccionar_mejor': 0.546901 segundos\n",
            "Mejor Asignación con costo 52 de tomas por día:\n",
            "Día 1: Tomas [1, 3, 8, 13, 16, 17]\n",
            "Día 2: Tomas [5, 6, 9, 10, 11, 14]\n",
            "Día 3: Tomas [2, 4, 7, 12, 15]\n",
            "---- DATOS EXCEL\n",
            "Tiempo de ejecución de 'seleccionar_mejor': 470.560826 segundos\n",
            "Mejor Asignación con costo 27 de tomas por día:\n",
            "Día 1: Tomas [2, 5, 11, 16, 20, 25]\n",
            "Día 2: Tomas [1, 10, 12, 22, 26, 27]\n",
            "Día 3: Tomas [14, 17, 18, 19, 23, 24]\n",
            "Día 4: Tomas [3, 4, 8, 15, 21, 29]\n",
            "Día 5: Tomas [6, 7, 9, 13, 28, 30]\n"
          ]
        }
      ],
      "source": [
        "import random\n",
        "\n",
        "\n",
        "def recocido_simulado(datos, max_tomas_por_dia=6, temp_inicial=1000, solucion_inicial=None):\n",
        "  if (solucion_inicial == None):\n",
        "    asignacion_actual = crear_solucion(datos, max_tomas_por_dia)\n",
        "  else:\n",
        "    asignacion_actual = solucion_inicial\n",
        "\n",
        "  costo_actual = sum(calcular_costo(datos, grupo) for grupo in asignacion_actual)\n",
        "\n",
        "  mejor_asignacion = asignacion_actual[:]\n",
        "  mejor_costo = costo_actual\n",
        "  temperatura = temp_inicial\n",
        "  enfriamiento = 0.99\n",
        "\n",
        "  while temperatura > .0001:\n",
        "    nueva_asignacion = genera_vecina_aleatorio(asignacion_actual, max_tomas_por_dia)\n",
        "    nuevo_costo = sum(calcular_costo(datos, grupo) for grupo in nueva_asignacion)\n",
        "\n",
        "    if nuevo_costo < mejor_costo:\n",
        "      mejor_asignacion = nueva_asignacion[:]\n",
        "      mejor_costo = nuevo_costo\n",
        "\n",
        "    if nuevo_costo < costo_actual or probabilidad(temperatura, abs(costo_actual - nuevo_costo)):\n",
        "      asignacion_actual = nueva_asignacion[:]\n",
        "      costo_actual = nuevo_costo\n",
        "\n",
        "    temperatura *= enfriamiento\n",
        "\n",
        "  return mejor_costo, mejor_asignacion\n",
        "\n",
        "def probabilidad(T, d):\n",
        "  if random.random() <  math.exp(-1*d / T):\n",
        "    return True\n",
        "  else:\n",
        "    return False\n",
        "\n",
        "def crear_solucion(datos, max_tomas_por_dia):\n",
        "  num_tomas = len(datos)\n",
        "  tomas = list(range(1, num_tomas + 1))\n",
        "  tomas.sort(key=lambda t: sum(datos[t-1]), reverse=True)\n",
        "  asignacion = []\n",
        "  while tomas:\n",
        "    grupo = tomas[:max_tomas_por_dia]\n",
        "    asignacion.append(grupo)\n",
        "    tomas = tomas[max_tomas_por_dia:]\n",
        "  return asignacion\n",
        "\n",
        "def genera_vecina_aleatorio(asignacion, max_tomas_por_dia):\n",
        "  vecino = [grupo[:] for grupo in asignacion]\n",
        "  if len(vecino) < 2:\n",
        "    return vecino\n",
        "\n",
        "  i, j = random.sample(range(len(vecino)), 2)\n",
        "  #print(f'dias escogidos a cambiar: {i+1} - {j+1}')\n",
        "  if vecino[i] and vecino[j]:\n",
        "    t1, t2 = random.choice(vecino[i]), random.choice(vecino[j])\n",
        "    #print(f'tomas escogidas a cambiar: {t1} - {t2}')\n",
        "    vecino[i].remove(t1)\n",
        "    vecino[j].remove(t2)\n",
        "    vecino[i].append(t2)\n",
        "    vecino[j].append(t1)\n",
        "\n",
        "  return [grupo for grupo in vecino if grupo]\n",
        "\n",
        "@medir_tiempo\n",
        "def seleccionar_mejor(rang_ini_temp, rang_fin_temp, intentos, data):\n",
        "  mejor_costo = float('inf')\n",
        "  mejor_asignacion = None\n",
        "  for intento in range(0, intentos):\n",
        "    temp = random.randint(rang_ini_temp, rang_fin_temp)\n",
        "    # reusemos la mejor asignacion hasta el momento para calcular de nuevo.\n",
        "    costo, asignacion = recocido_simulado(data, temp_inicial=temp, solucion_inicial=mejor_asignacion)\n",
        "    #print(f'-- Intento {intento}, Temp: {temp}, Costo: {costo}')\n",
        "    if (costo < mejor_costo):\n",
        "      mejor_costo = costo\n",
        "      mejor_asignacion = asignacion\n",
        "  return mejor_costo, mejor_asignacion\n",
        "\n",
        "\n",
        "print('------ Recocido simulado:')\n",
        "print('---- DATOS PRUEBA')\n",
        "costo, asignacion = recocido_simulado(datos_doblaje_prueba)\n",
        "print(f'-- Costo: {costo}')\n",
        "print('Asignación de tomas por día:')\n",
        "for i, dia in enumerate(asignacion):\n",
        "  dia.sort()\n",
        "  print(f'Día {i + 1}: Tomas {dia}')\n",
        "\n",
        "print('---- DATOS GENERADOS')\n",
        "costo, asignacion = seleccionar_mejor(100000, 1000000, 10, datos_doblaje)\n",
        "print(f'Mejor Asignación con costo {costo} de tomas por día:')\n",
        "for i, dia in enumerate(asignacion):\n",
        "  dia.sort()\n",
        "  print(f'Día {i + 1}: Tomas {dia}')\n",
        "\n",
        "print('---- DATOS EXCEL')\n",
        "costo, asignacion = seleccionar_mejor(100000, 1000000, 10000, datos_doblaje_excel)\n",
        "print(f'Mejor Asignación con costo {costo} de tomas por día:')\n",
        "for i, dia in enumerate(asignacion):\n",
        "  dia.sort()\n",
        "  print(f'Día {i + 1}: Tomas {dia}')"
      ]
    },
    {
      "cell_type": "markdown",
      "metadata": {
        "id": "Sbo9IqQtpaHZ"
      },
      "source": [
        "#Modelo\n",
        "El problema se identifica como un problema de combinatoria/asignación de recursos, ya que debemos optimizar las tomas por día para sacar el máximo provecho a los actores de voz que llamamos para ese día. La mejor estructura de datos para leer el problema y dar la solución es una matriz, donde en la entrada se identifiquen los actores necesarios por toma y en la salida se indiquen las tomas que deben grabarse por día, de modo que se sepa qué actores deben ser llamados cada día.\n",
        "\n",
        "- ¿Como represento el espacio de soluciones?\n",
        " - Cada solución es una asignación de las 30 tomas de doblaje en grupos de hasta 6 tomas por día. Se representa como una lista de listas (una matriz), donde cada sublista contiene las tomas que se grabarán juntas en un mismo día. Del resultado, se tomó la que tuviese el mejor costo. Parte de la clave está en que, dado que se usa una heurística, en el caso de Excel se ejecuta N veces, variando la temperatura entre cada ejecución. En sí, el algoritmo no toma más de 1 segundo por ejecución, pero es necesario realizar varias ejecuciones para aproximarse lo mejor posible al resultado menos costoso.\n",
        "\n",
        "- ¿Cual es la función objetivo?\n",
        " - El calculo del costo del día en general dado que es la que da el resultado importante para evaluar la solución:\n",
        "    ```\n",
        "    def calcular_costo(datos, tomas):\n",
        "      submatriz = [datos[i-1] for i in tomas]\n",
        "      return sum(1 for columna in zip(*submatriz) if any(columna))\n",
        "    ```\n",
        " En el caso del recocido_simulado como tenemos que comparar todas las soluciones para encontrar la mejor sería la función que compara todos los costos dados por cada solucion encontrada para dar la mejor posible.\n",
        "\n",
        "    ```\n",
        "    def seleccionar_mejor(rang_ini_temp, rang_fin_temp, intentos, data):\n",
        "      mejor_costo = float('inf')\n",
        "      mejor_asignacion = None\n",
        "      for intento in range(0, intentos):\n",
        "        temp = random.randint(rang_ini_temp, rang_fin_temp)\n",
        "        costo, asignacion = recocido_simulado(data, temp_inicial=temp)\n",
        "        #print(f'-- Intento {intento}, Temp: {temp}, Costo: {costo}')\n",
        "        if (costo < mejor_costo):\n",
        "          mejor_costo = costo\n",
        "          mejor_asignacion = asignacion\n",
        "      return mejor_costo, mejor_asignacion\n",
        "    ```\n",
        "\n",
        "- ¿Como implemento las restricciones?\n",
        " - Al tener en cuenta el máximo de tomas por día, validar el costo y revisar los casos base, se tuvo en cuenta los escenarios planteados en el ejercicio, así como la precaución de no duplicar las tomas entre días."
      ]
    },
    {
      "cell_type": "markdown",
      "metadata": {
        "id": "ixEJUwH_pv7M"
      },
      "source": [
        "#Diseño\n",
        "Para el diseño, se pensó inicialmente en probar con algunos algoritmos básicos para obtener una solución que pudiera compararse con una heurística, dado que este es un problema tipo. Luego de encontrar un algoritmo que proporcionara una solución óptima analizando todas las posibles soluciones, se procedió a validar la heurística que mejor se aplicara a este caso.\n",
        "\n",
        "- ¿Qué técnica utilizo? ¿Por qué?\n",
        "\n",
        " Inicialmente, Fuerza Bruta con Divide y Vencerás porque:\n",
        " - Sirvió para entender y analizar el problema.\n",
        " - Permitió obtener una solución para comparar intentos futuros.\n",
        " - Se quería ver cuánto tomaba evaluar todas las posibles soluciones y cómo se vería.\n",
        "\n",
        " Decidí utilizar la heurística de Recocido Simulado para la solución final dado que:\n",
        " - Es buena para problemas de combinatoria.\n",
        " - Bien implementada, proporciona diversificación e intensificación en la solución del problema.\n",
        " - El tiempo del algoritmo en sí es corto, dado que es muy eficiente, aunque es necesario evaluar la temperatura y ejecutarlo múltiples veces para obtener una buena solución.\n",
        " - Es simple de implementar para este problema."
      ]
    },
    {
      "cell_type": "markdown",
      "metadata": {
        "id": "HZz52wOppp-U"
      },
      "source": [
        "# Análisis\n",
        "- ¿Qué complejidad tiene el problema?\n",
        " - El problema es una combinatoria entre el total de tomas y las tomas que se pueden efectuar en el día, en el peor escenario puede crecer de forma exponencial o quizás factorial, teniendo n tomas y k tomas máximas por día:\n",
        "\n",
        " $$C(n, k) = \\frac{n!}{k! \\cdot (n-k)!}$$\n",
        "\n",
        "- Orden de complejidad\n",
        " - Para fuerza bruta con divide y vencerás, teniendo n tomas y k tomas máximas por día sería en el peor caso (n igualmente de grande que m):\n",
        "\n",
        " $$O(C(n, k) * n * m)$$\n",
        " $$O(C(n, k) * n^2)$$\n",
        "\n",
        " - En el caso del recocido simulado, para cada intento, para n tomas, k tomas máximas y m número de actores sería en el peor caso (con k muy pequeño y n igualmente de grande que m):\n",
        "\n",
        "  $$O(T_{max} * f_{costo})$$\n",
        "  $$O(T_{max} * (n/k * n * m))$$\n",
        "  $$O(T_{max} * n^3)$$\n",
        "\n",
        "- Contabilizar el espacio de soluciones\n",
        " - En el caso del Excel sería C(30, 6) = 593775 soluciones posibles.\n",
        "\n"
      ]
    }
  ],
  "metadata": {
    "colab": {
      "provenance": [],
      "include_colab_link": true
    },
    "kernelspec": {
      "display_name": "Python 3",
      "name": "python3"
    }
  },
  "nbformat": 4,
  "nbformat_minor": 0
}